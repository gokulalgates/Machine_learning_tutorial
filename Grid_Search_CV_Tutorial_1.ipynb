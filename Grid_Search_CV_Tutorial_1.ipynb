{
 "cells": [
  {
   "cell_type": "code",
   "execution_count": 1,
   "metadata": {},
   "outputs": [],
   "source": [
    "#Import scikit-learn dataset library\n",
    "from sklearn import datasets\n",
    "from sklearn.preprocessing import StandardScaler\n",
    "from sklearn.model_selection import GridSearchCV\n",
    "from sklearn.metrics import classification_report\n",
    "from sklearn.svm import SVC\n",
    "\n",
    "#Load dataset\n",
    "cancer = datasets.load_breast_cancer()"
   ]
  },
  {
   "cell_type": "code",
   "execution_count": 2,
   "metadata": {},
   "outputs": [
    {
     "name": "stdout",
     "output_type": "stream",
     "text": [
      "Features:  ['mean radius' 'mean texture' 'mean perimeter' 'mean area'\n",
      " 'mean smoothness' 'mean compactness' 'mean concavity'\n",
      " 'mean concave points' 'mean symmetry' 'mean fractal dimension'\n",
      " 'radius error' 'texture error' 'perimeter error' 'area error'\n",
      " 'smoothness error' 'compactness error' 'concavity error'\n",
      " 'concave points error' 'symmetry error' 'fractal dimension error'\n",
      " 'worst radius' 'worst texture' 'worst perimeter' 'worst area'\n",
      " 'worst smoothness' 'worst compactness' 'worst concavity'\n",
      " 'worst concave points' 'worst symmetry' 'worst fractal dimension']\n",
      "Labels:  ['malignant' 'benign']\n"
     ]
    }
   ],
   "source": [
    "# print the names of the 13 features\n",
    "print(\"Features: \", cancer.feature_names)\n",
    "\n",
    "# print the label type of cancer('malignant' 'benign')\n",
    "print(\"Labels: \", cancer.target_names)"
   ]
  },
  {
   "cell_type": "code",
   "execution_count": 3,
   "metadata": {},
   "outputs": [],
   "source": [
    "# Import train_test_split function\n",
    "from sklearn.model_selection import train_test_split\n",
    "\n",
    "# Split dataset into training set and test set\n",
    "X_train, X_test, y_train, y_test = train_test_split(cancer.data, cancer.target, test_size=0.2,random_state=109) #80% training and 30% test"
   ]
  },
  {
   "cell_type": "code",
   "execution_count": 4,
   "metadata": {},
   "outputs": [],
   "source": [
    "C_range=[1.e-02, 1.e-01, 1.e+00, 1.e+01, 1.e+02, 1.e+03]\n",
    "gamma_range=[1.e-09, 1.e-08, 1.e-07, 1.e-06, 1.e-05 ]"
   ]
  },
  {
   "cell_type": "code",
   "execution_count": 5,
   "metadata": {},
   "outputs": [
    {
     "data": {
      "text/plain": [
       "(455,)"
      ]
     },
     "execution_count": 5,
     "metadata": {},
     "output_type": "execute_result"
    }
   ],
   "source": [
    "y_train.shape"
   ]
  },
  {
   "cell_type": "code",
   "execution_count": 6,
   "metadata": {},
   "outputs": [
    {
     "name": "stdout",
     "output_type": "stream",
     "text": [
      "# Tuning hyper-parameters for accuracy\n",
      "\n"
     ]
    },
    {
     "name": "stderr",
     "output_type": "stream",
     "text": [
      "C:\\Users\\gokul\\Anaconda3\\lib\\site-packages\\sklearn\\model_selection\\_search.py:813: DeprecationWarning: The default of the `iid` parameter will change from True to False in version 0.22 and will be removed in 0.24. This will change numeric results when test-set sizes are unequal.\n",
      "  DeprecationWarning)\n"
     ]
    },
    {
     "name": "stdout",
     "output_type": "stream",
     "text": [
      "Best parameters set found on development set:\n",
      "\n",
      "{'C': 100.0, 'gamma': 1e-05, 'kernel': 'poly'}\n",
      "\n",
      "Grid scores on development set:\n",
      "\n",
      "0.622 (+/-0.005) for {'C': 0.01, 'gamma': 1e-09, 'kernel': 'rbf'}\n",
      "0.622 (+/-0.005) for {'C': 0.01, 'gamma': 1e-08, 'kernel': 'rbf'}\n",
      "0.622 (+/-0.005) for {'C': 0.01, 'gamma': 1e-07, 'kernel': 'rbf'}\n",
      "0.774 (+/-0.045) for {'C': 0.01, 'gamma': 1e-06, 'kernel': 'rbf'}\n",
      "0.622 (+/-0.005) for {'C': 0.01, 'gamma': 1e-05, 'kernel': 'rbf'}\n",
      "0.622 (+/-0.005) for {'C': 0.1, 'gamma': 1e-09, 'kernel': 'rbf'}\n",
      "0.622 (+/-0.005) for {'C': 0.1, 'gamma': 1e-08, 'kernel': 'rbf'}\n",
      "0.844 (+/-0.027) for {'C': 0.1, 'gamma': 1e-07, 'kernel': 'rbf'}\n",
      "0.884 (+/-0.037) for {'C': 0.1, 'gamma': 1e-06, 'kernel': 'rbf'}\n",
      "0.905 (+/-0.052) for {'C': 0.1, 'gamma': 1e-05, 'kernel': 'rbf'}\n",
      "0.624 (+/-0.010) for {'C': 1.0, 'gamma': 1e-09, 'kernel': 'rbf'}\n",
      "0.842 (+/-0.020) for {'C': 1.0, 'gamma': 1e-08, 'kernel': 'rbf'}\n",
      "0.886 (+/-0.034) for {'C': 1.0, 'gamma': 1e-07, 'kernel': 'rbf'}\n",
      "0.908 (+/-0.041) for {'C': 1.0, 'gamma': 1e-06, 'kernel': 'rbf'}\n",
      "0.912 (+/-0.044) for {'C': 1.0, 'gamma': 1e-05, 'kernel': 'rbf'}\n",
      "0.842 (+/-0.020) for {'C': 10.0, 'gamma': 1e-09, 'kernel': 'rbf'}\n",
      "0.886 (+/-0.034) for {'C': 10.0, 'gamma': 1e-08, 'kernel': 'rbf'}\n",
      "0.912 (+/-0.037) for {'C': 10.0, 'gamma': 1e-07, 'kernel': 'rbf'}\n",
      "0.912 (+/-0.051) for {'C': 10.0, 'gamma': 1e-06, 'kernel': 'rbf'}\n",
      "0.936 (+/-0.047) for {'C': 10.0, 'gamma': 1e-05, 'kernel': 'rbf'}\n",
      "0.886 (+/-0.034) for {'C': 100.0, 'gamma': 1e-09, 'kernel': 'rbf'}\n",
      "0.912 (+/-0.037) for {'C': 100.0, 'gamma': 1e-08, 'kernel': 'rbf'}\n",
      "0.912 (+/-0.040) for {'C': 100.0, 'gamma': 1e-07, 'kernel': 'rbf'}\n",
      "0.934 (+/-0.050) for {'C': 100.0, 'gamma': 1e-06, 'kernel': 'rbf'}\n",
      "0.934 (+/-0.066) for {'C': 100.0, 'gamma': 1e-05, 'kernel': 'rbf'}\n",
      "0.912 (+/-0.037) for {'C': 1000.0, 'gamma': 1e-09, 'kernel': 'rbf'}\n",
      "0.916 (+/-0.036) for {'C': 1000.0, 'gamma': 1e-08, 'kernel': 'rbf'}\n",
      "0.932 (+/-0.045) for {'C': 1000.0, 'gamma': 1e-07, 'kernel': 'rbf'}\n",
      "0.947 (+/-0.060) for {'C': 1000.0, 'gamma': 1e-06, 'kernel': 'rbf'}\n",
      "0.947 (+/-0.051) for {'C': 1000.0, 'gamma': 1e-05, 'kernel': 'rbf'}\n",
      "0.622 (+/-0.005) for {'C': 0.01, 'gamma': 1e-09, 'kernel': 'poly'}\n",
      "0.622 (+/-0.005) for {'C': 0.01, 'gamma': 1e-08, 'kernel': 'poly'}\n",
      "0.624 (+/-0.010) for {'C': 0.01, 'gamma': 1e-07, 'kernel': 'poly'}\n",
      "0.866 (+/-0.030) for {'C': 0.01, 'gamma': 1e-06, 'kernel': 'poly'}\n",
      "0.908 (+/-0.041) for {'C': 0.01, 'gamma': 1e-05, 'kernel': 'poly'}\n",
      "0.622 (+/-0.005) for {'C': 0.1, 'gamma': 1e-09, 'kernel': 'poly'}\n",
      "0.622 (+/-0.005) for {'C': 0.1, 'gamma': 1e-08, 'kernel': 'poly'}\n",
      "0.664 (+/-0.033) for {'C': 0.1, 'gamma': 1e-07, 'kernel': 'poly'}\n",
      "0.888 (+/-0.050) for {'C': 0.1, 'gamma': 1e-06, 'kernel': 'poly'}\n",
      "0.908 (+/-0.041) for {'C': 0.1, 'gamma': 1e-05, 'kernel': 'poly'}\n",
      "0.622 (+/-0.005) for {'C': 1.0, 'gamma': 1e-09, 'kernel': 'poly'}\n",
      "0.622 (+/-0.005) for {'C': 1.0, 'gamma': 1e-08, 'kernel': 'poly'}\n",
      "0.802 (+/-0.035) for {'C': 1.0, 'gamma': 1e-07, 'kernel': 'poly'}\n",
      "0.905 (+/-0.038) for {'C': 1.0, 'gamma': 1e-06, 'kernel': 'poly'}\n",
      "0.936 (+/-0.041) for {'C': 1.0, 'gamma': 1e-05, 'kernel': 'poly'}\n",
      "0.622 (+/-0.005) for {'C': 10.0, 'gamma': 1e-09, 'kernel': 'poly'}\n",
      "0.624 (+/-0.010) for {'C': 10.0, 'gamma': 1e-08, 'kernel': 'poly'}\n",
      "0.866 (+/-0.030) for {'C': 10.0, 'gamma': 1e-07, 'kernel': 'poly'}\n",
      "0.908 (+/-0.041) for {'C': 10.0, 'gamma': 1e-06, 'kernel': 'poly'}\n",
      "0.943 (+/-0.057) for {'C': 10.0, 'gamma': 1e-05, 'kernel': 'poly'}\n",
      "0.622 (+/-0.005) for {'C': 100.0, 'gamma': 1e-09, 'kernel': 'poly'}\n",
      "0.664 (+/-0.033) for {'C': 100.0, 'gamma': 1e-08, 'kernel': 'poly'}\n",
      "0.888 (+/-0.050) for {'C': 100.0, 'gamma': 1e-07, 'kernel': 'poly'}\n",
      "0.908 (+/-0.041) for {'C': 100.0, 'gamma': 1e-06, 'kernel': 'poly'}\n",
      "0.954 (+/-0.062) for {'C': 100.0, 'gamma': 1e-05, 'kernel': 'poly'}\n",
      "0.622 (+/-0.005) for {'C': 1000.0, 'gamma': 1e-09, 'kernel': 'poly'}\n",
      "0.802 (+/-0.035) for {'C': 1000.0, 'gamma': 1e-08, 'kernel': 'poly'}\n",
      "0.905 (+/-0.038) for {'C': 1000.0, 'gamma': 1e-07, 'kernel': 'poly'}\n",
      "0.936 (+/-0.041) for {'C': 1000.0, 'gamma': 1e-06, 'kernel': 'poly'}\n",
      "0.954 (+/-0.053) for {'C': 1000.0, 'gamma': 1e-05, 'kernel': 'poly'}\n",
      "0.622 (+/-0.005) for {'C': 0.01, 'gamma': 1e-09, 'kernel': 'sigmoid'}\n",
      "0.622 (+/-0.005) for {'C': 0.01, 'gamma': 1e-08, 'kernel': 'sigmoid'}\n",
      "0.622 (+/-0.005) for {'C': 0.01, 'gamma': 1e-07, 'kernel': 'sigmoid'}\n",
      "0.622 (+/-0.005) for {'C': 0.01, 'gamma': 1e-06, 'kernel': 'sigmoid'}\n",
      "0.622 (+/-0.005) for {'C': 0.01, 'gamma': 1e-05, 'kernel': 'sigmoid'}\n",
      "0.622 (+/-0.005) for {'C': 0.1, 'gamma': 1e-09, 'kernel': 'sigmoid'}\n",
      "0.622 (+/-0.005) for {'C': 0.1, 'gamma': 1e-08, 'kernel': 'sigmoid'}\n",
      "0.778 (+/-0.036) for {'C': 0.1, 'gamma': 1e-07, 'kernel': 'sigmoid'}\n",
      "0.622 (+/-0.005) for {'C': 0.1, 'gamma': 1e-06, 'kernel': 'sigmoid'}\n",
      "0.620 (+/-0.005) for {'C': 0.1, 'gamma': 1e-05, 'kernel': 'sigmoid'}\n",
      "0.622 (+/-0.005) for {'C': 1.0, 'gamma': 1e-09, 'kernel': 'sigmoid'}\n",
      "0.778 (+/-0.031) for {'C': 1.0, 'gamma': 1e-08, 'kernel': 'sigmoid'}\n",
      "0.875 (+/-0.037) for {'C': 1.0, 'gamma': 1e-07, 'kernel': 'sigmoid'}\n",
      "0.363 (+/-0.055) for {'C': 1.0, 'gamma': 1e-06, 'kernel': 'sigmoid'}\n",
      "0.503 (+/-0.056) for {'C': 1.0, 'gamma': 1e-05, 'kernel': 'sigmoid'}\n",
      "0.778 (+/-0.031) for {'C': 10.0, 'gamma': 1e-09, 'kernel': 'sigmoid'}\n",
      "0.875 (+/-0.037) for {'C': 10.0, 'gamma': 1e-08, 'kernel': 'sigmoid'}\n",
      "0.905 (+/-0.040) for {'C': 10.0, 'gamma': 1e-07, 'kernel': 'sigmoid'}\n",
      "0.281 (+/-0.043) for {'C': 10.0, 'gamma': 1e-06, 'kernel': 'sigmoid'}\n",
      "0.341 (+/-0.113) for {'C': 10.0, 'gamma': 1e-05, 'kernel': 'sigmoid'}\n",
      "0.875 (+/-0.037) for {'C': 100.0, 'gamma': 1e-09, 'kernel': 'sigmoid'}\n",
      "0.905 (+/-0.040) for {'C': 100.0, 'gamma': 1e-08, 'kernel': 'sigmoid'}\n",
      "0.868 (+/-0.051) for {'C': 100.0, 'gamma': 1e-07, 'kernel': 'sigmoid'}\n",
      "0.270 (+/-0.043) for {'C': 100.0, 'gamma': 1e-06, 'kernel': 'sigmoid'}\n",
      "0.268 (+/-0.098) for {'C': 100.0, 'gamma': 1e-05, 'kernel': 'sigmoid'}\n",
      "0.905 (+/-0.040) for {'C': 1000.0, 'gamma': 1e-09, 'kernel': 'sigmoid'}\n",
      "0.908 (+/-0.041) for {'C': 1000.0, 'gamma': 1e-08, 'kernel': 'sigmoid'}\n",
      "0.870 (+/-0.067) for {'C': 1000.0, 'gamma': 1e-07, 'kernel': 'sigmoid'}\n",
      "0.268 (+/-0.042) for {'C': 1000.0, 'gamma': 1e-06, 'kernel': 'sigmoid'}\n",
      "0.266 (+/-0.096) for {'C': 1000.0, 'gamma': 1e-05, 'kernel': 'sigmoid'}\n",
      "\n",
      "Detailed classification report:\n",
      "\n",
      "The model is trained on the full development set.\n",
      "The scores are computed on the full evaluation set.\n",
      "\n",
      "[[40  0]\n",
      " [ 2 72]]\n",
      "              precision    recall  f1-score   support\n",
      "\n",
      "           0       0.95      1.00      0.98        40\n",
      "           1       1.00      0.97      0.99        74\n",
      "\n",
      "    accuracy                           0.98       114\n",
      "   macro avg       0.98      0.99      0.98       114\n",
      "weighted avg       0.98      0.98      0.98       114\n",
      "\n"
     ]
    }
   ],
   "source": [
    "import pandas as pd\n",
    "from sklearn.preprocessing import StandardScaler\n",
    "from sklearn.model_selection import GridSearchCV\n",
    "from sklearn.metrics import classification_report\n",
    "from sklearn.svm import SVC\n",
    "from sklearn import metrics\n",
    "\n",
    "\n",
    "    # Set the parameters by cross-validation\n",
    "tuned_parameters = [{'kernel': ['rbf'], 'gamma': gamma_range,'C': C_range},\n",
    "                    {'kernel': ['poly'], 'gamma': gamma_range,'C': C_range},\n",
    "                    {'kernel': ['sigmoid'],'gamma': gamma_range, 'C': C_range}]\n",
    "    #,'linear','poly','sigmoid'\n",
    "scores = ['accuracy']#'precision','accuracy', 'recall']\n",
    "for score in scores:\n",
    "    print(\"# Tuning hyper-parameters for %s\" % score)\n",
    "    print()\n",
    "    clf = GridSearchCV(SVC(), tuned_parameters, cv=5,scoring=score)\n",
    "                           #scoring='%s_macro' % score)\n",
    "    clf.fit(X_train, y_train)\n",
    "    print(\"Best parameters set found on development set:\")\n",
    "    print()\n",
    "    print(clf.best_params_)\n",
    "\n",
    "\n",
    "\n",
    "    print()\n",
    "    print(\"Grid scores on development set:\")\n",
    "    print()\n",
    "    means = clf.cv_results_['mean_test_score']\n",
    "    stds = clf.cv_results_['std_test_score']\n",
    "    for mean, std, params in zip(means, stds, clf.cv_results_['params']):\n",
    "        print(\"%0.3f (+/-%0.03f) for %r\"\n",
    "                  % (mean, std * 2, params))\n",
    "    print()\n",
    "\n",
    "    print(\"Detailed classification report:\")\n",
    "    print()\n",
    "    print(\"The model is trained on the full development set.\")\n",
    "    print(\"The scores are computed on the full evaluation set.\")\n",
    "    print()\n",
    "        \n",
    "    y_true, y_pred = y_test, clf.predict(X_test)\n",
    "    from sklearn.metrics import recall_score\n",
    "    from sklearn.metrics import precision_score\n",
    "    recall = recall_score(y_true, y_pred)\n",
    "    precision = precision_score(y_true, y_pred)\n",
    "    MCC = metrics.matthews_corrcoef(y_true, y_pred)\n",
    "    tn, fp, fn, tp = metrics.confusion_matrix(y_true, y_pred).ravel()\n",
    "    print(metrics.confusion_matrix(y_true, y_pred))\n",
    "    print(classification_report(y_true, y_pred))\n",
    "\n"
   ]
  },
  {
   "cell_type": "code",
   "execution_count": 7,
   "metadata": {},
   "outputs": [
    {
     "name": "stdout",
     "output_type": "stream",
     "text": [
      "Recall 0.972972972972973\n",
      "Precision 1.0\n",
      "MCC 0.962621902223779\n"
     ]
    }
   ],
   "source": [
    "print(\"Recall\", recall)\n",
    "print(\"Precision\", precision)\n",
    "print(\"MCC\",MCC)"
   ]
  },
  {
   "cell_type": "code",
   "execution_count": null,
   "metadata": {},
   "outputs": [],
   "source": []
  }
 ],
 "metadata": {
  "kernelspec": {
   "display_name": "Python 3",
   "language": "python",
   "name": "python3"
  },
  "language_info": {
   "codemirror_mode": {
    "name": "ipython",
    "version": 3
   },
   "file_extension": ".py",
   "mimetype": "text/x-python",
   "name": "python",
   "nbconvert_exporter": "python",
   "pygments_lexer": "ipython3",
   "version": "3.7.3"
  }
 },
 "nbformat": 4,
 "nbformat_minor": 4
}
