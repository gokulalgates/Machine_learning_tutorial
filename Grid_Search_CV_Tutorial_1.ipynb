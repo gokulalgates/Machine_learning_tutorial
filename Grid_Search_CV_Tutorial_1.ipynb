{
 "cells": [
  {
   "cell_type": "code",
   "execution_count": 1,
   "metadata": {},
   "outputs": [],
   "source": [
    "#Import scikit-learn dataset library\n",
    "from sklearn import datasets\n",
    "from sklearn.preprocessing import StandardScaler\n",
    "from sklearn.model_selection import GridSearchCV\n",
    "from sklearn.metrics import classification_report\n",
    "from sklearn.svm import SVC\n",
    "\n",
    "#Load dataset\n",
    "cancer = datasets.load_breast_cancer()"
   ]
  },
  {
   "cell_type": "code",
   "execution_count": 2,
   "metadata": {},
   "outputs": [
    {
     "data": {
      "text/plain": [
       "{'data': array([[1.799e+01, 1.038e+01, 1.228e+02, ..., 2.654e-01, 4.601e-01,\n",
       "         1.189e-01],\n",
       "        [2.057e+01, 1.777e+01, 1.329e+02, ..., 1.860e-01, 2.750e-01,\n",
       "         8.902e-02],\n",
       "        [1.969e+01, 2.125e+01, 1.300e+02, ..., 2.430e-01, 3.613e-01,\n",
       "         8.758e-02],\n",
       "        ...,\n",
       "        [1.660e+01, 2.808e+01, 1.083e+02, ..., 1.418e-01, 2.218e-01,\n",
       "         7.820e-02],\n",
       "        [2.060e+01, 2.933e+01, 1.401e+02, ..., 2.650e-01, 4.087e-01,\n",
       "         1.240e-01],\n",
       "        [7.760e+00, 2.454e+01, 4.792e+01, ..., 0.000e+00, 2.871e-01,\n",
       "         7.039e-02]]),\n",
       " 'target': array([0, 0, 0, 0, 0, 0, 0, 0, 0, 0, 0, 0, 0, 0, 0, 0, 0, 0, 0, 1, 1, 1,\n",
       "        0, 0, 0, 0, 0, 0, 0, 0, 0, 0, 0, 0, 0, 0, 0, 1, 0, 0, 0, 0, 0, 0,\n",
       "        0, 0, 1, 0, 1, 1, 1, 1, 1, 0, 0, 1, 0, 0, 1, 1, 1, 1, 0, 1, 0, 0,\n",
       "        1, 1, 1, 1, 0, 1, 0, 0, 1, 0, 1, 0, 0, 1, 1, 1, 0, 0, 1, 0, 0, 0,\n",
       "        1, 1, 1, 0, 1, 1, 0, 0, 1, 1, 1, 0, 0, 1, 1, 1, 1, 0, 1, 1, 0, 1,\n",
       "        1, 1, 1, 1, 1, 1, 1, 0, 0, 0, 1, 0, 0, 1, 1, 1, 0, 0, 1, 0, 1, 0,\n",
       "        0, 1, 0, 0, 1, 1, 0, 1, 1, 0, 1, 1, 1, 1, 0, 1, 1, 1, 1, 1, 1, 1,\n",
       "        1, 1, 0, 1, 1, 1, 1, 0, 0, 1, 0, 1, 1, 0, 0, 1, 1, 0, 0, 1, 1, 1,\n",
       "        1, 0, 1, 1, 0, 0, 0, 1, 0, 1, 0, 1, 1, 1, 0, 1, 1, 0, 0, 1, 0, 0,\n",
       "        0, 0, 1, 0, 0, 0, 1, 0, 1, 0, 1, 1, 0, 1, 0, 0, 0, 0, 1, 1, 0, 0,\n",
       "        1, 1, 1, 0, 1, 1, 1, 1, 1, 0, 0, 1, 1, 0, 1, 1, 0, 0, 1, 0, 1, 1,\n",
       "        1, 1, 0, 1, 1, 1, 1, 1, 0, 1, 0, 0, 0, 0, 0, 0, 0, 0, 0, 0, 0, 0,\n",
       "        0, 0, 1, 1, 1, 1, 1, 1, 0, 1, 0, 1, 1, 0, 1, 1, 0, 1, 0, 0, 1, 1,\n",
       "        1, 1, 1, 1, 1, 1, 1, 1, 1, 1, 1, 0, 1, 1, 0, 1, 0, 1, 1, 1, 1, 1,\n",
       "        1, 1, 1, 1, 1, 1, 1, 1, 1, 0, 1, 1, 1, 0, 1, 0, 1, 1, 1, 1, 0, 0,\n",
       "        0, 1, 1, 1, 1, 0, 1, 0, 1, 0, 1, 1, 1, 0, 1, 1, 1, 1, 1, 1, 1, 0,\n",
       "        0, 0, 1, 1, 1, 1, 1, 1, 1, 1, 1, 1, 1, 0, 0, 1, 0, 0, 0, 1, 0, 0,\n",
       "        1, 1, 1, 1, 1, 0, 1, 1, 1, 1, 1, 0, 1, 1, 1, 0, 1, 1, 0, 0, 1, 1,\n",
       "        1, 1, 1, 1, 0, 1, 1, 1, 1, 1, 1, 1, 0, 1, 1, 1, 1, 1, 0, 1, 1, 0,\n",
       "        1, 1, 1, 1, 1, 1, 1, 1, 1, 1, 1, 1, 0, 1, 0, 0, 1, 0, 1, 1, 1, 1,\n",
       "        1, 0, 1, 1, 0, 1, 0, 1, 1, 0, 1, 0, 1, 1, 1, 1, 1, 1, 1, 1, 0, 0,\n",
       "        1, 1, 1, 1, 1, 1, 0, 1, 1, 1, 1, 1, 1, 1, 1, 1, 1, 0, 1, 1, 1, 1,\n",
       "        1, 1, 1, 0, 1, 0, 1, 1, 0, 1, 1, 1, 1, 1, 0, 0, 1, 0, 1, 0, 1, 1,\n",
       "        1, 1, 1, 0, 1, 1, 0, 1, 0, 1, 0, 0, 1, 1, 1, 0, 1, 1, 1, 1, 1, 1,\n",
       "        1, 1, 1, 1, 1, 0, 1, 0, 0, 1, 1, 1, 1, 1, 1, 1, 1, 1, 1, 1, 1, 1,\n",
       "        1, 1, 1, 1, 1, 1, 1, 1, 1, 1, 1, 1, 0, 0, 0, 0, 0, 0, 1]),\n",
       " 'target_names': array(['malignant', 'benign'], dtype='<U9'),\n",
       " 'DESCR': '.. _breast_cancer_dataset:\\n\\nBreast cancer wisconsin (diagnostic) dataset\\n--------------------------------------------\\n\\n**Data Set Characteristics:**\\n\\n    :Number of Instances: 569\\n\\n    :Number of Attributes: 30 numeric, predictive attributes and the class\\n\\n    :Attribute Information:\\n        - radius (mean of distances from center to points on the perimeter)\\n        - texture (standard deviation of gray-scale values)\\n        - perimeter\\n        - area\\n        - smoothness (local variation in radius lengths)\\n        - compactness (perimeter^2 / area - 1.0)\\n        - concavity (severity of concave portions of the contour)\\n        - concave points (number of concave portions of the contour)\\n        - symmetry \\n        - fractal dimension (\"coastline approximation\" - 1)\\n\\n        The mean, standard error, and \"worst\" or largest (mean of the three\\n        largest values) of these features were computed for each image,\\n        resulting in 30 features.  For instance, field 3 is Mean Radius, field\\n        13 is Radius SE, field 23 is Worst Radius.\\n\\n        - class:\\n                - WDBC-Malignant\\n                - WDBC-Benign\\n\\n    :Summary Statistics:\\n\\n    ===================================== ====== ======\\n                                           Min    Max\\n    ===================================== ====== ======\\n    radius (mean):                        6.981  28.11\\n    texture (mean):                       9.71   39.28\\n    perimeter (mean):                     43.79  188.5\\n    area (mean):                          143.5  2501.0\\n    smoothness (mean):                    0.053  0.163\\n    compactness (mean):                   0.019  0.345\\n    concavity (mean):                     0.0    0.427\\n    concave points (mean):                0.0    0.201\\n    symmetry (mean):                      0.106  0.304\\n    fractal dimension (mean):             0.05   0.097\\n    radius (standard error):              0.112  2.873\\n    texture (standard error):             0.36   4.885\\n    perimeter (standard error):           0.757  21.98\\n    area (standard error):                6.802  542.2\\n    smoothness (standard error):          0.002  0.031\\n    compactness (standard error):         0.002  0.135\\n    concavity (standard error):           0.0    0.396\\n    concave points (standard error):      0.0    0.053\\n    symmetry (standard error):            0.008  0.079\\n    fractal dimension (standard error):   0.001  0.03\\n    radius (worst):                       7.93   36.04\\n    texture (worst):                      12.02  49.54\\n    perimeter (worst):                    50.41  251.2\\n    area (worst):                         185.2  4254.0\\n    smoothness (worst):                   0.071  0.223\\n    compactness (worst):                  0.027  1.058\\n    concavity (worst):                    0.0    1.252\\n    concave points (worst):               0.0    0.291\\n    symmetry (worst):                     0.156  0.664\\n    fractal dimension (worst):            0.055  0.208\\n    ===================================== ====== ======\\n\\n    :Missing Attribute Values: None\\n\\n    :Class Distribution: 212 - Malignant, 357 - Benign\\n\\n    :Creator:  Dr. William H. Wolberg, W. Nick Street, Olvi L. Mangasarian\\n\\n    :Donor: Nick Street\\n\\n    :Date: November, 1995\\n\\nThis is a copy of UCI ML Breast Cancer Wisconsin (Diagnostic) datasets.\\nhttps://goo.gl/U2Uwz2\\n\\nFeatures are computed from a digitized image of a fine needle\\naspirate (FNA) of a breast mass.  They describe\\ncharacteristics of the cell nuclei present in the image.\\n\\nSeparating plane described above was obtained using\\nMultisurface Method-Tree (MSM-T) [K. P. Bennett, \"Decision Tree\\nConstruction Via Linear Programming.\" Proceedings of the 4th\\nMidwest Artificial Intelligence and Cognitive Science Society,\\npp. 97-101, 1992], a classification method which uses linear\\nprogramming to construct a decision tree.  Relevant features\\nwere selected using an exhaustive search in the space of 1-4\\nfeatures and 1-3 separating planes.\\n\\nThe actual linear program used to obtain the separating plane\\nin the 3-dimensional space is that described in:\\n[K. P. Bennett and O. L. Mangasarian: \"Robust Linear\\nProgramming Discrimination of Two Linearly Inseparable Sets\",\\nOptimization Methods and Software 1, 1992, 23-34].\\n\\nThis database is also available through the UW CS ftp server:\\n\\nftp ftp.cs.wisc.edu\\ncd math-prog/cpo-dataset/machine-learn/WDBC/\\n\\n.. topic:: References\\n\\n   - W.N. Street, W.H. Wolberg and O.L. Mangasarian. Nuclear feature extraction \\n     for breast tumor diagnosis. IS&T/SPIE 1993 International Symposium on \\n     Electronic Imaging: Science and Technology, volume 1905, pages 861-870,\\n     San Jose, CA, 1993.\\n   - O.L. Mangasarian, W.N. Street and W.H. Wolberg. Breast cancer diagnosis and \\n     prognosis via linear programming. Operations Research, 43(4), pages 570-577, \\n     July-August 1995.\\n   - W.H. Wolberg, W.N. Street, and O.L. Mangasarian. Machine learning techniques\\n     to diagnose breast cancer from fine-needle aspirates. Cancer Letters 77 (1994) \\n     163-171.',\n",
       " 'feature_names': array(['mean radius', 'mean texture', 'mean perimeter', 'mean area',\n",
       "        'mean smoothness', 'mean compactness', 'mean concavity',\n",
       "        'mean concave points', 'mean symmetry', 'mean fractal dimension',\n",
       "        'radius error', 'texture error', 'perimeter error', 'area error',\n",
       "        'smoothness error', 'compactness error', 'concavity error',\n",
       "        'concave points error', 'symmetry error',\n",
       "        'fractal dimension error', 'worst radius', 'worst texture',\n",
       "        'worst perimeter', 'worst area', 'worst smoothness',\n",
       "        'worst compactness', 'worst concavity', 'worst concave points',\n",
       "        'worst symmetry', 'worst fractal dimension'], dtype='<U23'),\n",
       " 'filename': 'C:\\\\Users\\\\gokul\\\\Anaconda3\\\\lib\\\\site-packages\\\\sklearn\\\\datasets\\\\data\\\\breast_cancer.csv'}"
      ]
     },
     "execution_count": 2,
     "metadata": {},
     "output_type": "execute_result"
    }
   ],
   "source": [
    "cancer"
   ]
  },
  {
   "cell_type": "code",
   "execution_count": 3,
   "metadata": {},
   "outputs": [
    {
     "name": "stdout",
     "output_type": "stream",
     "text": [
      "Features:  ['mean radius' 'mean texture' 'mean perimeter' 'mean area'\n",
      " 'mean smoothness' 'mean compactness' 'mean concavity'\n",
      " 'mean concave points' 'mean symmetry' 'mean fractal dimension'\n",
      " 'radius error' 'texture error' 'perimeter error' 'area error'\n",
      " 'smoothness error' 'compactness error' 'concavity error'\n",
      " 'concave points error' 'symmetry error' 'fractal dimension error'\n",
      " 'worst radius' 'worst texture' 'worst perimeter' 'worst area'\n",
      " 'worst smoothness' 'worst compactness' 'worst concavity'\n",
      " 'worst concave points' 'worst symmetry' 'worst fractal dimension']\n",
      "Labels:  ['malignant' 'benign']\n"
     ]
    }
   ],
   "source": [
    "# print the names of the 13 features\n",
    "print(\"Features: \", cancer.feature_names)\n",
    "\n",
    "# print the label type of cancer('malignant' 'benign')\n",
    "print(\"Labels: \", cancer.target_names)"
   ]
  },
  {
   "cell_type": "code",
   "execution_count": 4,
   "metadata": {},
   "outputs": [],
   "source": [
    "# Import train_test_split function\n",
    "from sklearn.model_selection import train_test_split\n",
    "\n",
    "# Split dataset into training set and test set\n",
    "X_train, X_test, y_train, y_test = train_test_split(cancer.data, cancer.target, test_size=0.2,random_state=109) #80% training and 30% test"
   ]
  },
  {
   "cell_type": "code",
   "execution_count": 8,
   "metadata": {},
   "outputs": [],
   "source": [
    "C_range=[1.e-02, 1.e-01, 1.e+00, 1.e+01, 1.e+02, 1.e+03]\n",
    "gamma_range=[1.e-09, 1.e-08, 1.e-07, 1.e-06, 1.e-05 ]"
   ]
  },
  {
   "cell_type": "code",
   "execution_count": 9,
   "metadata": {},
   "outputs": [
    {
     "data": {
      "text/plain": [
       "(455,)"
      ]
     },
     "execution_count": 9,
     "metadata": {},
     "output_type": "execute_result"
    }
   ],
   "source": [
    "y_train.shape"
   ]
  },
  {
   "cell_type": "code",
   "execution_count": 12,
   "metadata": {},
   "outputs": [
    {
     "name": "stdout",
     "output_type": "stream",
     "text": [
      "# Tuning hyper-parameters for accuracy\n",
      "\n"
     ]
    },
    {
     "name": "stderr",
     "output_type": "stream",
     "text": [
      "C:\\Users\\gokul\\Anaconda3\\lib\\site-packages\\sklearn\\model_selection\\_search.py:813: DeprecationWarning: The default of the `iid` parameter will change from True to False in version 0.22 and will be removed in 0.24. This will change numeric results when test-set sizes are unequal.\n",
      "  DeprecationWarning)\n"
     ]
    },
    {
     "name": "stdout",
     "output_type": "stream",
     "text": [
      "Best parameters set found on development set:\n",
      "\n",
      "{'C': 100.0, 'gamma': 1e-05, 'kernel': 'poly'}\n",
      "\n",
      "Grid scores on development set:\n",
      "\n",
      "0.622 (+/-0.005) for {'C': 0.01, 'gamma': 1e-09, 'kernel': 'rbf'}\n",
      "0.622 (+/-0.005) for {'C': 0.01, 'gamma': 1e-08, 'kernel': 'rbf'}\n",
      "0.622 (+/-0.005) for {'C': 0.01, 'gamma': 1e-07, 'kernel': 'rbf'}\n",
      "0.774 (+/-0.045) for {'C': 0.01, 'gamma': 1e-06, 'kernel': 'rbf'}\n",
      "0.622 (+/-0.005) for {'C': 0.01, 'gamma': 1e-05, 'kernel': 'rbf'}\n",
      "0.622 (+/-0.005) for {'C': 0.1, 'gamma': 1e-09, 'kernel': 'rbf'}\n",
      "0.622 (+/-0.005) for {'C': 0.1, 'gamma': 1e-08, 'kernel': 'rbf'}\n",
      "0.844 (+/-0.027) for {'C': 0.1, 'gamma': 1e-07, 'kernel': 'rbf'}\n",
      "0.884 (+/-0.037) for {'C': 0.1, 'gamma': 1e-06, 'kernel': 'rbf'}\n",
      "0.905 (+/-0.052) for {'C': 0.1, 'gamma': 1e-05, 'kernel': 'rbf'}\n",
      "0.624 (+/-0.010) for {'C': 1.0, 'gamma': 1e-09, 'kernel': 'rbf'}\n",
      "0.842 (+/-0.020) for {'C': 1.0, 'gamma': 1e-08, 'kernel': 'rbf'}\n",
      "0.886 (+/-0.034) for {'C': 1.0, 'gamma': 1e-07, 'kernel': 'rbf'}\n",
      "0.908 (+/-0.041) for {'C': 1.0, 'gamma': 1e-06, 'kernel': 'rbf'}\n",
      "0.912 (+/-0.044) for {'C': 1.0, 'gamma': 1e-05, 'kernel': 'rbf'}\n",
      "0.842 (+/-0.020) for {'C': 10.0, 'gamma': 1e-09, 'kernel': 'rbf'}\n",
      "0.886 (+/-0.034) for {'C': 10.0, 'gamma': 1e-08, 'kernel': 'rbf'}\n",
      "0.912 (+/-0.037) for {'C': 10.0, 'gamma': 1e-07, 'kernel': 'rbf'}\n",
      "0.912 (+/-0.051) for {'C': 10.0, 'gamma': 1e-06, 'kernel': 'rbf'}\n",
      "0.936 (+/-0.047) for {'C': 10.0, 'gamma': 1e-05, 'kernel': 'rbf'}\n",
      "0.886 (+/-0.034) for {'C': 100.0, 'gamma': 1e-09, 'kernel': 'rbf'}\n",
      "0.912 (+/-0.037) for {'C': 100.0, 'gamma': 1e-08, 'kernel': 'rbf'}\n",
      "0.912 (+/-0.040) for {'C': 100.0, 'gamma': 1e-07, 'kernel': 'rbf'}\n",
      "0.934 (+/-0.050) for {'C': 100.0, 'gamma': 1e-06, 'kernel': 'rbf'}\n",
      "0.934 (+/-0.066) for {'C': 100.0, 'gamma': 1e-05, 'kernel': 'rbf'}\n",
      "0.912 (+/-0.037) for {'C': 1000.0, 'gamma': 1e-09, 'kernel': 'rbf'}\n",
      "0.916 (+/-0.036) for {'C': 1000.0, 'gamma': 1e-08, 'kernel': 'rbf'}\n",
      "0.932 (+/-0.045) for {'C': 1000.0, 'gamma': 1e-07, 'kernel': 'rbf'}\n",
      "0.947 (+/-0.060) for {'C': 1000.0, 'gamma': 1e-06, 'kernel': 'rbf'}\n",
      "0.947 (+/-0.051) for {'C': 1000.0, 'gamma': 1e-05, 'kernel': 'rbf'}\n",
      "0.622 (+/-0.005) for {'C': 0.01, 'gamma': 1e-09, 'kernel': 'poly'}\n",
      "0.622 (+/-0.005) for {'C': 0.01, 'gamma': 1e-08, 'kernel': 'poly'}\n",
      "0.624 (+/-0.010) for {'C': 0.01, 'gamma': 1e-07, 'kernel': 'poly'}\n",
      "0.866 (+/-0.030) for {'C': 0.01, 'gamma': 1e-06, 'kernel': 'poly'}\n",
      "0.908 (+/-0.041) for {'C': 0.01, 'gamma': 1e-05, 'kernel': 'poly'}\n",
      "0.622 (+/-0.005) for {'C': 0.1, 'gamma': 1e-09, 'kernel': 'poly'}\n",
      "0.622 (+/-0.005) for {'C': 0.1, 'gamma': 1e-08, 'kernel': 'poly'}\n",
      "0.664 (+/-0.033) for {'C': 0.1, 'gamma': 1e-07, 'kernel': 'poly'}\n",
      "0.888 (+/-0.050) for {'C': 0.1, 'gamma': 1e-06, 'kernel': 'poly'}\n",
      "0.908 (+/-0.041) for {'C': 0.1, 'gamma': 1e-05, 'kernel': 'poly'}\n",
      "0.622 (+/-0.005) for {'C': 1.0, 'gamma': 1e-09, 'kernel': 'poly'}\n",
      "0.622 (+/-0.005) for {'C': 1.0, 'gamma': 1e-08, 'kernel': 'poly'}\n",
      "0.802 (+/-0.035) for {'C': 1.0, 'gamma': 1e-07, 'kernel': 'poly'}\n",
      "0.905 (+/-0.038) for {'C': 1.0, 'gamma': 1e-06, 'kernel': 'poly'}\n",
      "0.936 (+/-0.041) for {'C': 1.0, 'gamma': 1e-05, 'kernel': 'poly'}\n",
      "0.622 (+/-0.005) for {'C': 10.0, 'gamma': 1e-09, 'kernel': 'poly'}\n",
      "0.624 (+/-0.010) for {'C': 10.0, 'gamma': 1e-08, 'kernel': 'poly'}\n",
      "0.866 (+/-0.030) for {'C': 10.0, 'gamma': 1e-07, 'kernel': 'poly'}\n",
      "0.908 (+/-0.041) for {'C': 10.0, 'gamma': 1e-06, 'kernel': 'poly'}\n",
      "0.943 (+/-0.057) for {'C': 10.0, 'gamma': 1e-05, 'kernel': 'poly'}\n",
      "0.622 (+/-0.005) for {'C': 100.0, 'gamma': 1e-09, 'kernel': 'poly'}\n",
      "0.664 (+/-0.033) for {'C': 100.0, 'gamma': 1e-08, 'kernel': 'poly'}\n",
      "0.888 (+/-0.050) for {'C': 100.0, 'gamma': 1e-07, 'kernel': 'poly'}\n",
      "0.908 (+/-0.041) for {'C': 100.0, 'gamma': 1e-06, 'kernel': 'poly'}\n",
      "0.954 (+/-0.062) for {'C': 100.0, 'gamma': 1e-05, 'kernel': 'poly'}\n",
      "0.622 (+/-0.005) for {'C': 1000.0, 'gamma': 1e-09, 'kernel': 'poly'}\n",
      "0.802 (+/-0.035) for {'C': 1000.0, 'gamma': 1e-08, 'kernel': 'poly'}\n",
      "0.905 (+/-0.038) for {'C': 1000.0, 'gamma': 1e-07, 'kernel': 'poly'}\n",
      "0.936 (+/-0.041) for {'C': 1000.0, 'gamma': 1e-06, 'kernel': 'poly'}\n",
      "0.954 (+/-0.053) for {'C': 1000.0, 'gamma': 1e-05, 'kernel': 'poly'}\n",
      "0.622 (+/-0.005) for {'C': 0.01, 'gamma': 1e-09, 'kernel': 'sigmoid'}\n",
      "0.622 (+/-0.005) for {'C': 0.01, 'gamma': 1e-08, 'kernel': 'sigmoid'}\n",
      "0.622 (+/-0.005) for {'C': 0.01, 'gamma': 1e-07, 'kernel': 'sigmoid'}\n",
      "0.622 (+/-0.005) for {'C': 0.01, 'gamma': 1e-06, 'kernel': 'sigmoid'}\n",
      "0.622 (+/-0.005) for {'C': 0.01, 'gamma': 1e-05, 'kernel': 'sigmoid'}\n",
      "0.622 (+/-0.005) for {'C': 0.1, 'gamma': 1e-09, 'kernel': 'sigmoid'}\n",
      "0.622 (+/-0.005) for {'C': 0.1, 'gamma': 1e-08, 'kernel': 'sigmoid'}\n",
      "0.778 (+/-0.036) for {'C': 0.1, 'gamma': 1e-07, 'kernel': 'sigmoid'}\n",
      "0.622 (+/-0.005) for {'C': 0.1, 'gamma': 1e-06, 'kernel': 'sigmoid'}\n",
      "0.620 (+/-0.005) for {'C': 0.1, 'gamma': 1e-05, 'kernel': 'sigmoid'}\n",
      "0.622 (+/-0.005) for {'C': 1.0, 'gamma': 1e-09, 'kernel': 'sigmoid'}\n",
      "0.778 (+/-0.031) for {'C': 1.0, 'gamma': 1e-08, 'kernel': 'sigmoid'}\n",
      "0.875 (+/-0.037) for {'C': 1.0, 'gamma': 1e-07, 'kernel': 'sigmoid'}\n",
      "0.363 (+/-0.055) for {'C': 1.0, 'gamma': 1e-06, 'kernel': 'sigmoid'}\n",
      "0.503 (+/-0.056) for {'C': 1.0, 'gamma': 1e-05, 'kernel': 'sigmoid'}\n",
      "0.778 (+/-0.031) for {'C': 10.0, 'gamma': 1e-09, 'kernel': 'sigmoid'}\n",
      "0.875 (+/-0.037) for {'C': 10.0, 'gamma': 1e-08, 'kernel': 'sigmoid'}\n",
      "0.905 (+/-0.040) for {'C': 10.0, 'gamma': 1e-07, 'kernel': 'sigmoid'}\n",
      "0.281 (+/-0.043) for {'C': 10.0, 'gamma': 1e-06, 'kernel': 'sigmoid'}\n",
      "0.341 (+/-0.113) for {'C': 10.0, 'gamma': 1e-05, 'kernel': 'sigmoid'}\n",
      "0.875 (+/-0.037) for {'C': 100.0, 'gamma': 1e-09, 'kernel': 'sigmoid'}\n",
      "0.905 (+/-0.040) for {'C': 100.0, 'gamma': 1e-08, 'kernel': 'sigmoid'}\n",
      "0.868 (+/-0.051) for {'C': 100.0, 'gamma': 1e-07, 'kernel': 'sigmoid'}\n",
      "0.270 (+/-0.043) for {'C': 100.0, 'gamma': 1e-06, 'kernel': 'sigmoid'}\n",
      "0.268 (+/-0.098) for {'C': 100.0, 'gamma': 1e-05, 'kernel': 'sigmoid'}\n",
      "0.905 (+/-0.040) for {'C': 1000.0, 'gamma': 1e-09, 'kernel': 'sigmoid'}\n",
      "0.908 (+/-0.041) for {'C': 1000.0, 'gamma': 1e-08, 'kernel': 'sigmoid'}\n",
      "0.870 (+/-0.067) for {'C': 1000.0, 'gamma': 1e-07, 'kernel': 'sigmoid'}\n",
      "0.268 (+/-0.042) for {'C': 1000.0, 'gamma': 1e-06, 'kernel': 'sigmoid'}\n",
      "0.266 (+/-0.096) for {'C': 1000.0, 'gamma': 1e-05, 'kernel': 'sigmoid'}\n",
      "\n",
      "Detailed classification report:\n",
      "\n",
      "The model is trained on the full development set.\n",
      "The scores are computed on the full evaluation set.\n",
      "\n",
      "[[40  0]\n",
      " [ 2 72]]\n",
      "              precision    recall  f1-score   support\n",
      "\n",
      "           0       0.95      1.00      0.98        40\n",
      "           1       1.00      0.97      0.99        74\n",
      "\n",
      "    accuracy                           0.98       114\n",
      "   macro avg       0.98      0.99      0.98       114\n",
      "weighted avg       0.98      0.98      0.98       114\n",
      "\n"
     ]
    }
   ],
   "source": [
    "import pandas as pd\n",
    "from sklearn.preprocessing import StandardScaler\n",
    "from sklearn.model_selection import GridSearchCV\n",
    "from sklearn.metrics import classification_report\n",
    "from sklearn.svm import SVC\n",
    "from sklearn import metrics\n",
    "\n",
    "\n",
    "    # Set the parameters by cross-validation\n",
    "tuned_parameters = [{'kernel': ['rbf'], 'gamma': gamma_range,'C': C_range},\n",
    "                    {'kernel': ['poly'], 'gamma': gamma_range,'C': C_range},\n",
    "                    {'kernel': ['sigmoid'],'gamma': gamma_range, 'C': C_range}]\n",
    "    #,'linear','poly','sigmoid'\n",
    "scores = ['accuracy']#'precision','accuracy', 'recall']\n",
    "for score in scores:\n",
    "    print(\"# Tuning hyper-parameters for %s\" % score)\n",
    "    print()\n",
    "    clf = GridSearchCV(SVC(), tuned_parameters, cv=5,scoring=score)\n",
    "                           #scoring='%s_macro' % score)\n",
    "    clf.fit(X_train, y_train)\n",
    "    print(\"Best parameters set found on development set:\")\n",
    "    print()\n",
    "    print(clf.best_params_)\n",
    "\n",
    "\n",
    "    print()\n",
    "    print(\"Grid scores on development set:\")\n",
    "    print()\n",
    "    means = clf.cv_results_['mean_test_score']\n",
    "    stds = clf.cv_results_['std_test_score']\n",
    "    for mean, std, params in zip(means, stds, clf.cv_results_['params']):\n",
    "        print(\"%0.3f (+/-%0.03f) for %r\"\n",
    "                  % (mean, std * 2, params))\n",
    "    print()\n",
    "\n",
    "    print(\"Detailed classification report:\")\n",
    "    print()\n",
    "    print(\"The model is trained on the full development set.\")\n",
    "    print(\"The scores are computed on the full evaluation set.\")\n",
    "    print()\n",
    "        \n",
    "    y_true, y_pred = y_test, clf.predict(X_test)\n",
    "    from sklearn.metrics import recall_score\n",
    "    from sklearn.metrics import precision_score\n",
    "    recall = recall_score(y_true, y_pred)\n",
    "    precision = precision_score(y_true, y_pred)\n",
    "    MCC = metrics.matthews_corrcoef(y_true, y_pred)\n",
    "    tn, fp, fn, tp = metrics.confusion_matrix(y_true, y_pred).ravel()\n",
    "    print(metrics.confusion_matrix(y_true, y_pred))\n",
    "    print(classification_report(y_true, y_pred))\n",
    "\n"
   ]
  },
  {
   "cell_type": "code",
   "execution_count": null,
   "metadata": {},
   "outputs": [],
   "source": []
  }
 ],
 "metadata": {
  "kernelspec": {
   "display_name": "Python 3",
   "language": "python",
   "name": "python3"
  },
  "language_info": {
   "codemirror_mode": {
    "name": "ipython",
    "version": 3
   },
   "file_extension": ".py",
   "mimetype": "text/x-python",
   "name": "python",
   "nbconvert_exporter": "python",
   "pygments_lexer": "ipython3",
   "version": "3.7.3"
  }
 },
 "nbformat": 4,
 "nbformat_minor": 4
}
